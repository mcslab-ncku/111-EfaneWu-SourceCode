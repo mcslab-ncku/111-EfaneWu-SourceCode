{
 "cells": [
  {
   "cell_type": "code",
   "execution_count": null,
   "metadata": {
    "id": "iJEqQwz9UkbX"
   },
   "outputs": [],
   "source": [
    "import os\n",
    "os.chdir('C:\\\\Github')"
   ]
  },
  {
   "cell_type": "code",
   "execution_count": null,
   "metadata": {
    "id": "WgK7ZIOmUwgK"
   },
   "outputs": [],
   "source": [
    "import pickle\n",
    "import numpy as np\n",
    "import csv\n",
    "import pandas as pd\n",
    "from collections import Counter"
   ]
  },
  {
   "cell_type": "code",
   "execution_count": null,
   "metadata": {
    "id": "dRpCHYbs9Byk"
   },
   "outputs": [],
   "source": [
    "# table[y][x]\n",
    "table = np.array([[ 0, 0, 0, 0, 0, 0, 0, 0, 0, 0, 0, 0],\\\n",
    "        [ 0, 1, 0, 0, 0, 0,11, 0, 0, 0, 0,21],\\\n",
    "        [ 0, 2, 0, 0, 0, 0,12, 0, 0, 0, 0,22],\\\n",
    "        [ 0, 3, 0, 0, 0, 0,13, 0, 0, 0, 0,23],\\\n",
    "        [ 0, 4, 0, 0, 0, 0,14, 0, 0, 0, 0,24],\\\n",
    "        [ 0, 5, 0, 0, 0, 0,15, 0, 0, 0, 0,25],\\\n",
    "        [ 0, 6, 0, 0, 0, 0,16, 0, 0, 0, 0,26],\\\n",
    "        [ 0, 7, 0, 0, 0, 0,17, 0, 0, 0, 0,27],\\\n",
    "        [ 0, 8, 0, 0, 0, 0,18, 0, 0, 0, 0,28],\\\n",
    "        [ 0, 9, 0, 0, 0, 0,19, 0, 0, 0, 0,29],\\\n",
    "        [ 0,10, 0, 0, 0, 0,20, 0, 0, 0, 0,30],\\\n",
    "        [ 0,31,32,33,34,35,36,37,38,39,40,41] ], dtype = int)\n",
    "\n",
    "def class_to_coordinate(a):\n",
    "    x = np.argwhere(table == a)[0][1]\n",
    "    y = np.argwhere(table == a)[0][0]\n",
    "    coordinate = [x,y]\n",
    "    return coordinate\n",
    "\n",
    "def uuid_to_b_num(s):\n",
    "    if s[0:30] == 'e20a39f4-73f5-4bc4-a12f-17d1ad' :\n",
    "        uuid_num = int(s[-1])\n",
    "    else :\n",
    "        uuid_num = 0\n",
    "    return uuid_num"
   ]
  },
  {
   "cell_type": "markdown",
   "metadata": {
    "id": "aMGSaQI_Eh2M"
   },
   "source": [
    "## 說明：\n",
    "- 透過當初在每個位置收的 BLE_data.csv，產生wireless fingerprint training set\n",
    "，一共生成三個檔案：\n",
    "![](https://i.imgur.com/YBkSogr.png)\n",
    "\n",
    "- max_rssi.pickle 跟 min_rssi.pickle 分別儲存每支手機的 RSSI 最大/最小值，以便進行 MIN-MAX Normalization\n",
    "\n",
    "## 參數:\n",
    "- 無\n"
   ]
  },
  {
   "cell_type": "code",
   "execution_count": null,
   "metadata": {
    "colab": {
     "base_uri": "https://localhost:8080/"
    },
    "executionInfo": {
     "elapsed": 20450,
     "status": "ok",
     "timestamp": 1621924598357,
     "user": {
      "displayName": "林廷瑋",
      "photoUrl": "",
      "userId": "17333847887164758993"
     },
     "user_tz": -480
    },
    "id": "MvsY76UK0zum",
    "outputId": "0f297810-b355-4695-c811-dce4f35c37e7"
   },
   "outputs": [],
   "source": [
    "wireless_fingerprint = pd.DataFrame(columns =['label', 'Beacon_1', 'Beacon_2', 'Beacon_3', 'Beacon_4', 'Beacon_5', 'Beacon_6', 'Beacon_7'])\n",
    "\n",
    "phone_rssi_list = {'GalaxyA51':[], 'hTCU19e':[], 'hTCU11':[], 'sharp025':[]}\n",
    "min_rssi = {'GalaxyA51':0, 'hTCU19e':0, 'hTCU11':0, 'sharp025':0}\n",
    "max_rssi = {'GalaxyA51':0, 'hTCU19e':0, 'hTCU11':0, 'sharp025':0}\n",
    "\n",
    "for phone in ['GalaxyA51', 'hTCU19e', 'hTCU11', 'sharp025']:\n",
    "    path = f'./Data/0318_92589_train/{phone}/'\n",
    "    file_list = [f for f in os.listdir(path) if f[len(f)-3:] == 'csv']\n",
    "\n",
    "    for rssi_file in file_list:\n",
    "        df = pd.read_csv(f'{path+rssi_file}', delimiter=',')\n",
    "        phone_rssi_list[phone] += df['RSSI'].to_list()\n",
    "\n",
    "    min_rssi[phone] = min(phone_rssi_list[phone])\n",
    "    max_rssi[phone] = max(phone_rssi_list[phone])\n",
    "    print(min_rssi[phone],max_rssi[phone])\n",
    "\n",
    "    for rssi_file in file_list:\n",
    "        position = table[int(rssi_file[2:4])][int(rssi_file[0:2])]\n",
    "\n",
    "        print(rssi_file, position)\n",
    "\n",
    "        df = pd.read_csv(f'{path+rssi_file}', delimiter=',')\n",
    "        df['UUID'] = df['UUID'].apply(uuid_to_b_num)\n",
    "        #print(df[0:7])\n",
    "\n",
    "        rssi = [np.zeros((8))]\n",
    "        rssi[0][:] = np.nan\n",
    "        rssi[0][0] = position\n",
    "        row = 0\n",
    "\n",
    "        for i in range(len(df) - 1):\n",
    "            curr = df.iloc[i]['Time']\n",
    "            next = df.iloc[i+1]['Time']\n",
    "\n",
    "            rssi_idx = int(df.iloc[i]['UUID'])\n",
    "\n",
    "            rssi_idx = int(df.iloc[i]['UUID'])\n",
    "            if rssi_idx > 0 :\n",
    "                rssi[row][rssi_idx] = (df.iloc[i]['RSSI']-min_rssi[phone])/(max_rssi[phone]-min_rssi[phone])\n",
    "\n",
    "            if curr != next:  \n",
    "                row += 1\n",
    "                rssi.append(np.zeros((8)))\n",
    "                rssi[row][:] = np.nan\n",
    "                rssi[row][0] = position\n",
    "\n",
    "        rssi_idx = int(df.iloc[len(df) - 1]['UUID'])\n",
    "        #print(rssi_idx)\n",
    "        if rssi_idx > 0 :\n",
    "            rssi[row][rssi_idx] = (df.iloc[len(df) - 1]['RSSI']-min_rssi[phone])/(max_rssi[phone]-min_rssi[phone])\n",
    "\n",
    "        print(rssi)\n",
    "\n",
    "        new_row = pd.DataFrame(np.array(rssi), columns =['label', 'Beacon_1', 'Beacon_2', 'Beacon_3', 'Beacon_4', 'Beacon_5', 'Beacon_6', 'Beacon_7'])\n",
    "        wireless_fingerprint = wireless_fingerprint.append(new_row, ignore_index=True)\n",
    "\n",
    "wireless_fingerprint = wireless_fingerprint.interpolate()\n",
    "print(wireless_fingerprint)"
   ]
  },
  {
   "cell_type": "code",
   "execution_count": null,
   "metadata": {
    "id": "eU28zkHKK8BN"
   },
   "outputs": [],
   "source": [
    "# 儲存 min, max rssi 的檔案\n",
    "import pickle\n",
    "with open(f'./Data/0318_92589_train/min_rssi.pickle', 'wb') as f:\n",
    "    pickle.dump(min_rssi, f)\n",
    "with open(f'./Data/0318_92589_train/max_rssi.pickle', 'wb') as f:\n",
    "    pickle.dump(max_rssi, f)"
   ]
  },
  {
   "cell_type": "code",
   "execution_count": null,
   "metadata": {
    "id": "l8ovrT7aCpaZ"
   },
   "outputs": [],
   "source": [
    "# 儲存 wireless fingerprint training set\n",
    "wireless_fingerprint.set_index('label').to_csv(f'./Data/0318_92589_train/wireless_training_set.csv')"
   ]
  }
 ],
 "metadata": {
  "colab": {
   "authorship_tag": "ABX9TyN/UyfcZpWRtbtGkEoh8+ZI",
   "collapsed_sections": [],
   "mount_file_id": "1HWFDBWMqBCQqaJ0CA1dBIlm4yGFnTTEj",
   "name": "Wireless_fingerprint_train.ipynb",
   "provenance": []
  },
  "kernelspec": {
   "display_name": "Python 3",
   "language": "python",
   "name": "python3"
  },
  "language_info": {
   "codemirror_mode": {
    "name": "ipython",
    "version": 3
   },
   "file_extension": ".py",
   "mimetype": "text/x-python",
   "name": "python",
   "nbconvert_exporter": "python",
   "pygments_lexer": "ipython3",
   "version": "3.8.3"
  }
 },
 "nbformat": 4,
 "nbformat_minor": 1
}
