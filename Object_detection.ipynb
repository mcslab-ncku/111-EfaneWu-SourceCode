{
 "cells": [
  {
   "cell_type": "code",
   "execution_count": null,
   "metadata": {
    "id": "JqFLbdOFiQeg"
   },
   "outputs": [],
   "source": [
    "# 如果你使用 colab，取消下面兩行的註解，並修改為你自己的路徑\n",
    "\n",
    "#import os\n",
    "#os.chdir('drive/MyDrive/YOLOv4/tensorflow-yolov4-tflite')"
   ]
  },
  {
   "cell_type": "code",
   "execution_count": null,
   "metadata": {},
   "outputs": [],
   "source": [
    "import os\n",
    "os.chdir('C:\\\\Github')"
   ]
  },
  {
   "cell_type": "markdown",
   "metadata": {
    "id": "3HUGtgEpeLxK"
   },
   "source": [
    "# 使用 YOLOv4 進行物件辨識\n",
    "\n",
    "## 說明 (obj_detection_train.py)\n",
    "- 執行物件辨識，儲存全部結果到 detect_res.pickle\n",
    "\n",
    "## 參數 \n",
    "1. vid_path\n",
    "    - 輸入你 training video 路徑，格式如下\n",
    "    ![](https://i.imgur.com/O2JUzCk.png)\n",
    "    - 而每一個位置的資料夾裡面包含一支影片(360-degree video)\n",
    "    ![](https://i.imgur.com/pQHZm8h.png)\n",
    "2. file_path\n",
    "    - obj_detection_train.py 會輸出影片到你給的 file_path 資料夾中，例如\n",
    "    ![](https://i.imgur.com/Ftc9xxT.png)\n",
    "3. res_path\n",
    "    - 存放 detect_res.pickle 的位置，路徑中要包含 \"detect_res.pickle\"\n",
    "    ![](https://i.imgur.com/ZyK2Aq3.png)\n",
    "\n",
    "## Output:\n",
    "- 每個 frame 都會儲存以下資訊：\n",
    "```\n",
    "[\n",
    "int(position[0:2]), int(position[2:4]), \\ # 該 frame 對應的 x, y 座標\n",
    "frame_id, \\ # 該 frame 的編號\n",
    "boxes.numpy()[0],\\ # bounding box 的點座標 (左上&右下)\n",
    "scores.numpy()[0],\\ # 信心分數\n",
    "classes.numpy()[0],\\ # 物件種類\n",
    "valid_detections.numpy()[0],\\ # 物件數量 \n",
    "vid.get(0),\\ # 對應的影片秒數\n",
    "0 # 面向方向 (train 不考慮，一律設0)\n",
    "]    \n",
    "```\n",
    "\n",
    "\n"
   ]
  },
  {
   "cell_type": "code",
   "execution_count": null,
   "metadata": {
    "id": "ZCjB8Z_siWac"
   },
   "outputs": [],
   "source": [
    "# training videos\n",
    "#!python obj_detection_train.py --vid_path ./data/0612/train/ --file_path ./result_0612/train/ --res_path ./data/0612/train/detect_res.pickle"
   ]
  },
  {
   "cell_type": "code",
   "execution_count": null,
   "metadata": {},
   "outputs": [],
   "source": [
    "#!python obj_detection_train.py"
   ]
  },
  {
   "cell_type": "markdown",
   "metadata": {
    "id": "m6-chtQJkzW-"
   },
   "source": [
    "## 說明 (obj_detection_test.py)\n",
    "- 對 testing video 中，每個 step 抓 0.5 秒的 frame 進行物件辨識，儲存每個手機的結果 detect_res.pickle 到他們的資料夾下，例如：\n",
    "![](https://i.imgur.com/NnLy964.png)\n",
    "\n",
    "## 參數: \n",
    "1. vid_path\n",
    "    - 輸入你 testing video 路徑，格式如下\n",
    "    ![](https://i.imgur.com/0nO5yf5.png)\n",
    "    - 每個 walk 資料夾內容如下\n",
    "    ![](https://i.imgur.com/xSTKakk.png)\n",
    "    - 在這層包含一支影片\n",
    "    ![](https://i.imgur.com/a0bWpsR.png)\n",
    "2. walk\n",
    "    - 輸入你欲處理的 walk，目前研究有使用的 walk 有：\n",
    "```\n",
    "[\n",
    "    'one_way_walk_2','one_way_walk_3','one_way_walk_4','one_way_walk_5','one_way_walk_6',\\\n",
    "    'round_trip_walk_1','round_trip_walk_2','round_trip_walk_3',\\\n",
    "    'stationary_1','stationary_2','stationary_3','stationary_4','stationary_5','stationary_6','stationary_7','stationary_8','stationary_9',\\\n",
    "    'freewalk_1','freewalk_2','freewalk_3','freewalk_4'\n",
    "]\n",
    "```\n",
    "3. file_path\n",
    "    - obj_detection_test.py 會輸出影片到你給的 file_path 資料夾中，例如\n",
    "    ![](https://i.imgur.com/5bnZPmi.png)\n",
    "\n",
    "### Output:\n",
    "- 同 obj_detection_train.py，但方向有考慮，詳見\"實驗地圖與方向定義(座標).png\"。\n"
   ]
  },
  {
   "cell_type": "code",
   "execution_count": null,
   "metadata": {
    "id": "LIOpRcebiUo8"
   },
   "outputs": [],
   "source": [
    "# testing videos\n",
    "#!python obj_detection_test.py --vid_path ./data/0612/test/ --walk stationary_8 --file_path ./result_0612/test/"
   ]
  },
  {
   "cell_type": "code",
   "execution_count": null,
   "metadata": {},
   "outputs": [],
   "source": [
    "!python obj_detection_test.py --vid_path ./Data/0318_92589_test/ --walk freewalk_1 --file_path ./Data/0318_92589_image_result/test/"
   ]
  },
  {
   "cell_type": "code",
   "execution_count": null,
   "metadata": {},
   "outputs": [],
   "source": [
    "!python obj_detection_test.py --walk stationary_1 --file_path ./Data/0318_92589_image_result/test/"
   ]
  },
  {
   "cell_type": "code",
   "execution_count": null,
   "metadata": {},
   "outputs": [],
   "source": [
    "!python obj_detection_test.py --walk freewalk_1 --file_path ./Data/0318_92589_image_result/test/\n",
    "!python obj_detection_test.py --walk freewalk_2 --file_path ./Data/0318_92589_image_result/test/\n",
    "!python obj_detection_test.py --walk freewalk_3 --file_path ./Data/0318_92589_image_result/test/\n",
    "!python obj_detection_test.py --walk freewalk_4 --file_path ./Data/0318_92589_image_result/test/\n",
    "!python obj_detection_test.py --walk freewalk_5 --file_path ./Data/0318_92589_image_result/test/\n",
    "!python obj_detection_test.py --walk freewalk_6 --file_path ./Data/0318_92589_image_result/test/\n",
    "!python obj_detection_test.py --walk freewalk_7 --file_path ./Data/0318_92589_image_result/test/\n",
    "!python obj_detection_test.py --walk freewalk_8 --file_path ./Data/0318_92589_image_result/test/\n",
    "!python obj_detection_test.py --walk freewalk_9 --file_path ./Data/0318_92589_image_result/test/"
   ]
  },
  {
   "cell_type": "code",
   "execution_count": null,
   "metadata": {},
   "outputs": [],
   "source": [
    "!python obj_detection_test.py --walk one_way_walk_1 --file_path ./Data/0318_92589_image_result/test/\n",
    "!python obj_detection_test.py --walk one_way_walk_2 --file_path ./Data/0318_92589_image_result/test/\n",
    "!python obj_detection_test.py --walk one_way_walk_3 --file_path ./Data/0318_92589_image_result/test/\n",
    "!python obj_detection_test.py --walk one_way_walk_4 --file_path ./Data/0318_92589_image_result/test/\n",
    "!python obj_detection_test.py --walk one_way_walk_5 --file_path ./Data/0318_92589_image_result/test/\n",
    "!python obj_detection_test.py --walk one_way_walk_6 --file_path ./Data/0318_92589_image_result/test/\n",
    "!python obj_detection_test.py --walk one_way_walk_7 --file_path ./Data/0318_92589_image_result/test/\n",
    "!python obj_detection_test.py --walk one_way_walk_8 --file_path ./Data/0318_92589_image_result/test/"
   ]
  },
  {
   "cell_type": "code",
   "execution_count": null,
   "metadata": {},
   "outputs": [],
   "source": [
    "!python obj_detection_test.py --walk round_trip_walk_2 --file_path ./Data/0318_92589_image_result/test/\n",
    "!python obj_detection_test.py --walk round_trip_walk_3 --file_path ./Data/0318_92589_image_result/test/\n",
    "!python obj_detection_test.py --walk round_trip_walk_4 --file_path ./Data/0318_92589_image_result/test/"
   ]
  },
  {
   "cell_type": "code",
   "execution_count": null,
   "metadata": {},
   "outputs": [],
   "source": [
    "!python obj_detection_train.py --vid_path ./Data/0318_92589_train_image/ --file_path ./Data/0318_92589_image_result/train/ --res_path ./Data/0318_92589_train_image/detect_res.pickle"
   ]
  },
  {
   "cell_type": "code",
   "execution_count": null,
   "metadata": {},
   "outputs": [],
   "source": []
  }
 ],
 "metadata": {
  "colab": {
   "authorship_tag": "ABX9TyM/vWcPvM6lMERM2Sc+LHWm",
   "collapsed_sections": [],
   "mount_file_id": "1w-QRJM1f6t9Kjf8L9ACYQ0UyFRdkdR8K",
   "name": "Object_detection.ipynb",
   "provenance": []
  },
  "kernelspec": {
   "display_name": "Python 3",
   "language": "python",
   "name": "python3"
  },
  "language_info": {
   "codemirror_mode": {
    "name": "ipython",
    "version": 3
   },
   "file_extension": ".py",
   "mimetype": "text/x-python",
   "name": "python",
   "nbconvert_exporter": "python",
   "pygments_lexer": "ipython3",
   "version": "3.8.3"
  }
 },
 "nbformat": 4,
 "nbformat_minor": 1
}
